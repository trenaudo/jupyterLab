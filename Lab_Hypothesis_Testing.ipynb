{
 "cells": [
  {
   "cell_type": "markdown",
   "metadata": {},
   "source": [
    "\n",
    "# Lab | Hypothesis Testing\n",
    "\n",
    "\n",
    "### Instructions\n",
    "\n",
    "1. It is assumed that the mean systolic blood pressure is `μ = 120 mm Hg`. In the Honolulu Heart Study, a sample of `n = 100` people had an average systolic blood pressure of 130.1 mm Hg with a standard deviation of 21.21 mm Hg. Is the group significantly different (with respect to systolic blood pressure!) from the regular population?\n",
    "\n",
    "   - Set up the hypothesis test.\n",
    "   - Write down all the steps followed for setting up the test.\n",
    "   - Calculate the test statistic by hand and also code it in Python. It should be 4.76190. What decision can you make based on this calculated value?\n",
    "\n",
    "Hint: here is the statistic [table](https://yuppal.people.ysu.edu/econ_3790/t-table.pdf ) \n",
    "### Optional\n",
    "2. In a packing plant, a machine packs cartons with jars. It is supposed that a new machine will pack faster on the average than the machine currently used. To test that hypothesis, the times it takes each machine to pack ten cartons are recorded. The results, in seconds, are shown in the tables in the file `Data/machine.txt`. Assume that there is sufficient evidence to conduct the t test, does the data provide sufficient evidence to show if one machine is better than the other.\n",
    "\n",
    "Hint: use two sample t-test\n",
    "\n",
    "t= (sample_mean(x1) - sample_mean(x2)) / sqrt(square(s1)/n1  +  square(s2)/n2 )"
   ]
  },
  {
   "cell_type": "code",
   "execution_count": 2,
   "metadata": {
    "executionInfo": {
     "elapsed": 254,
     "status": "ok",
     "timestamp": 1624961181752,
     "user": {
      "displayName": "Ignacio Soteras",
      "photoUrl": "",
      "userId": "02050793736257155229"
     },
     "user_tz": -120
    },
    "id": "V8db-B4LZC-m"
   },
   "outputs": [],
   "source": [
    "import numpy as np\n",
    "import pandas as pd\n",
    "import scipy.stats as stats\n",
    "import matplotlib.pyplot as plt\n",
    "import seaborn as sns\n",
    "\n",
    "%matplotlib inline"
   ]
  },
  {
   "cell_type": "markdown",
   "metadata": {},
   "source": [
    "### H0: μ = 120 mm Hg.\n",
    "\n",
    "The group's average systolic blood pressure is not significantly different from the regular population, \n",
    "\n",
    "\n",
    "\n",
    "### H1: μ ≠ 120 mm Hg. \n",
    "\n",
    "The group's average systolic blood pressure is significantly different from the regular population, \n"
   ]
  },
  {
   "cell_type": "markdown",
   "metadata": {},
   "source": [
    "# Calculate the test statistic. \n",
    "\n",
    "### The test statistic for a one-sample t-test is given by:\n",
    "### t = (sample mean - population mean) / (sample standard deviation / sqrt(sample size))"
   ]
  },
  {
   "cell_type": "code",
   "execution_count": 21,
   "metadata": {},
   "outputs": [
    {
     "data": {
      "text/plain": [
       "4.761904761904759"
      ]
     },
     "execution_count": 21,
     "metadata": {},
     "output_type": "execute_result"
    }
   ],
   "source": [
    "# Calculate the test statistic\n",
    "t = (sample_mean - population_mean) / (sample_std / (sample_size ** 0.5))\n",
    "t"
   ]
  },
  {
   "cell_type": "code",
   "execution_count": 16,
   "metadata": {},
   "outputs": [
    {
     "data": {
      "text/plain": [
       "99"
      ]
     },
     "execution_count": 16,
     "metadata": {},
     "output_type": "execute_result"
    }
   ],
   "source": [
    "# Calculate the degrees of freedom\n",
    "d_f = sample_size - 1\n",
    "d_f"
   ]
  },
  {
   "cell_type": "code",
   "execution_count": 20,
   "metadata": {},
   "outputs": [
    {
     "data": {
      "text/plain": [
       "1.9842169515086827"
      ]
     },
     "execution_count": 20,
     "metadata": {},
     "output_type": "execute_result"
    }
   ],
   "source": [
    "# critical values\n",
    "alpha = 0.05  # Significance level\n",
    "critical_value = stats.t.ppf(1 - alpha / 2, d_f)  # two-tailed test\n",
    "critical_value\n"
   ]
  },
  {
   "cell_type": "code",
   "execution_count": 24,
   "metadata": {},
   "outputs": [
    {
     "data": {
      "text/plain": [
       "6.562701817092176e-06"
      ]
     },
     "execution_count": 24,
     "metadata": {},
     "output_type": "execute_result"
    }
   ],
   "source": [
    "# p-value\n",
    "p_value = (1 - stats.t.cdf(abs(t), d_f)) * 2  # Multiply by 2 for a two-tailed test\n",
    "p_value"
   ]
  },
  {
   "cell_type": "code",
   "execution_count": 15,
   "metadata": {},
   "outputs": [
    {
     "name": "stdout",
     "output_type": "stream",
     "text": [
      "Test statistic (t): 4.76\n",
      "Critical value: 1.98\n",
      "p-value: 6.562701817092176e-06\n"
     ]
    }
   ],
   "source": [
    "# Print the results\n",
    "print(\"Test statistic (t):\", round(t,2))\n",
    "print(\"Critical value:\", round(critical_value,2))\n",
    "print(\"p-value:\", p_value)"
   ]
  },
  {
   "cell_type": "markdown",
   "metadata": {},
   "source": [
    "## Conclusion: \n",
    "### Reject the null hypothesis. The group's average systolic blood pressure is significantly different from the regular population."
   ]
  }
 ],
 "metadata": {
  "colab": {
   "name": "Hypothesis testing - code along - Structure.ipynb",
   "provenance": []
  },
  "kernelspec": {
   "display_name": "Python 3 (ipykernel)",
   "language": "python",
   "name": "python3"
  },
  "language_info": {
   "codemirror_mode": {
    "name": "ipython",
    "version": 3
   },
   "file_extension": ".py",
   "mimetype": "text/x-python",
   "name": "python",
   "nbconvert_exporter": "python",
   "pygments_lexer": "ipython3",
   "version": "3.10.9"
  }
 },
 "nbformat": 4,
 "nbformat_minor": 1
}
