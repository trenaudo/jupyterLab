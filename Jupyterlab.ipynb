{
 "cells": [
  {
   "cell_type": "markdown",
   "id": "ef5280e6",
   "metadata": {},
   "source": [
    "# Messi's favourite destination"
   ]
  },
  {
   "cell_type": "markdown",
   "id": "431b6a91",
   "metadata": {},
   "source": [
    "The purpose of this notebook is to introduce someone, add her/his holidays preference with a picture and a link to a youtube video of this holiday preference and practice some Jupiter’s functions "
   ]
  },
  {
   "cell_type": "code",
   "execution_count": 8,
   "id": "40770fe5",
   "metadata": {},
   "outputs": [
    {
     "name": "stdout",
     "output_type": "stream",
     "text": [
      "Please insert your name: Messi\n"
     ]
    }
   ],
   "source": [
    "name = input('Please insert your name: ')"
   ]
  },
  {
   "cell_type": "code",
   "execution_count": 9,
   "id": "dff1c6ae",
   "metadata": {},
   "outputs": [
    {
     "name": "stdout",
     "output_type": "stream",
     "text": [
      "Messi\n"
     ]
    }
   ],
   "source": [
    "print(name)"
   ]
  },
  {
   "cell_type": "markdown",
   "id": "95007a60",
   "metadata": {},
   "source": [
    "![Image of Messi](https://s3.sportstatics.com/relevo/www/multimedia/202212/18/media/cortadas/messi-copa-campeon-RqAuqoYjxld56kmr4ed6ElN-1200x648@Relevo.jpg?w=1200&h=648)"
   ]
  },
  {
   "cell_type": "markdown",
   "id": "5a295416",
   "metadata": {},
   "source": [
    "Messi’s preferred place to visit is Rosario, in Argentina."
   ]
  },
  {
   "cell_type": "markdown",
   "id": "b25e2c28",
   "metadata": {},
   "source": [
    "![Image of Rosario](https://upload.wikimedia.org/wikipedia/commons/8/86/Rosario_monu_bandera.jpg)"
   ]
  },
  {
   "cell_type": "code",
   "execution_count": 14,
   "id": "c659e432",
   "metadata": {},
   "outputs": [
    {
     "name": "stdout",
     "output_type": "stream",
     "text": [
      "when Messi visits Rosario he loves to:\n"
     ]
    }
   ],
   "source": [
    "print('when', name,'visits Rosario he loves to:')"
   ]
  },
  {
   "cell_type": "markdown",
   "id": "e59ffe8c",
   "metadata": {},
   "source": [
    "- Eat asado\n",
    "- Drink mate\n",
    "- Visit his family"
   ]
  },
  {
   "cell_type": "code",
   "execution_count": null,
   "id": "3c9ba3d7",
   "metadata": {},
   "outputs": [],
   "source": []
  }
 ],
 "metadata": {
  "kernelspec": {
   "display_name": "Python 3 (ipykernel)",
   "language": "python",
   "name": "python3"
  },
  "language_info": {
   "codemirror_mode": {
    "name": "ipython",
    "version": 3
   },
   "file_extension": ".py",
   "mimetype": "text/x-python",
   "name": "python",
   "nbconvert_exporter": "python",
   "pygments_lexer": "ipython3",
   "version": "3.10.9"
  }
 },
 "nbformat": 4,
 "nbformat_minor": 5
}
